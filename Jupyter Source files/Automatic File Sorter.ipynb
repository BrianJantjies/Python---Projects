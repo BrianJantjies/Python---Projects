{
 "cells": [
  {
   "cell_type": "markdown",
   "id": "e1c09a8a",
   "metadata": {},
   "source": [
    "Automatic File Sorter in File Explorer"
   ]
  },
  {
   "cell_type": "code",
   "execution_count": 1,
   "id": "09fee042",
   "metadata": {},
   "outputs": [],
   "source": [
    "import os, shutil"
   ]
  },
  {
   "cell_type": "code",
   "execution_count": 2,
   "id": "e6c4b641",
   "metadata": {},
   "outputs": [],
   "source": [
    "path = r\"C:/Users/Brian Jantjies/Documents/Data Analysis Projects/Python/\""
   ]
  },
  {
   "cell_type": "code",
   "execution_count": 3,
   "id": "5b246a3a",
   "metadata": {},
   "outputs": [],
   "source": [
    "file_name = os.listdir(path)"
   ]
  },
  {
   "cell_type": "code",
   "execution_count": 4,
   "id": "34863f76",
   "metadata": {},
   "outputs": [],
   "source": [
    "folder_names = ['excel files', 'image files', 'jupyter source files']\n",
    "\n",
    "for loop in range(0,3):\n",
    "    if not os.path.exists(path + folder_names[loop]):\n",
    "        os.makedirs(path + folder_names[loop])\n",
    "    \n",
    "for file in file_name:\n",
    "    if \".xlsx\" in file and not os.path.exists(path + \"excel files/\" + file):\n",
    "        shutil.move(path + file, path + \"excel files/\" + file)\n",
    "    elif \".jpg\" in file and not os.path.exists(path + \"image files/\" + file):\n",
    "        shutil.move(path + file, path + \"image files/\" + file)\n",
    "    elif \".txt\" in file and not os.path.exists(path + \"text files/\" + file):\n",
    "        shutil.move(path + file, path + \"text files/\" + file)"
   ]
  },
  {
   "cell_type": "code",
   "execution_count": null,
   "id": "abfc7382",
   "metadata": {},
   "outputs": [],
   "source": [
    ".xlsx excel files"
   ]
  },
  {
   "cell_type": "code",
   "execution_count": null,
   "id": "bda5e8c6",
   "metadata": {},
   "outputs": [],
   "source": [
    ".jpg image files"
   ]
  },
  {
   "cell_type": "code",
   "execution_count": null,
   "id": "440d441e",
   "metadata": {},
   "outputs": [],
   "source": [
    ".txt text files"
   ]
  }
 ],
 "metadata": {
  "kernelspec": {
   "display_name": "Python 3 (ipykernel)",
   "language": "python",
   "name": "python3"
  },
  "language_info": {
   "codemirror_mode": {
    "name": "ipython",
    "version": 3
   },
   "file_extension": ".py",
   "mimetype": "text/x-python",
   "name": "python",
   "nbconvert_exporter": "python",
   "pygments_lexer": "ipython3",
   "version": "3.10.9"
  }
 },
 "nbformat": 4,
 "nbformat_minor": 5
}
